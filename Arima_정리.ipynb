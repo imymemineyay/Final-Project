{
  "nbformat": 4,
  "nbformat_minor": 0,
  "metadata": {
    "colab": {
      "provenance": [],
      "machine_shape": "hm",
      "collapsed_sections": [
        "jndw6pSyRn0e",
        "l-kt-13oRqLI"
      ],
      "gpuClass": "premium",
      "include_colab_link": true
    },
    "kernelspec": {
      "name": "python3",
      "display_name": "Python 3"
    },
    "language_info": {
      "name": "python"
    },
    "gpuClass": "premium"
  },
  "cells": [
    {
      "cell_type": "markdown",
      "metadata": {
        "id": "view-in-github",
        "colab_type": "text"
      },
      "source": [
        "<a href=\"https://colab.research.google.com/github/imymemineyay/Final-Project/blob/main/Arima_%EC%A0%95%EB%A6%AC.ipynb\" target=\"_parent\"><img src=\"https://colab.research.google.com/assets/colab-badge.svg\" alt=\"Open In Colab\"/></a>"
      ]
    },
    {
      "cell_type": "markdown",
      "source": [
        "# google mount 연결"
      ],
      "metadata": {
        "id": "VFxWTXQF3SjJ"
      }
    },
    {
      "cell_type": "code",
      "source": [
        "from google.colab import drive\n",
        "drive.mount('/content/drive')"
      ],
      "metadata": {
        "colab": {
          "base_uri": "https://localhost:8080/"
        },
        "id": "joQNfymy3Tw0",
        "outputId": "14508da5-fedf-4018-dadb-f2540f741606"
      },
      "execution_count": null,
      "outputs": [
        {
          "output_type": "stream",
          "name": "stdout",
          "text": [
            "Mounted at /content/drive\n"
          ]
        }
      ]
    },
    {
      "cell_type": "code",
      "source": [
        "%cd /content/drive/MyDrive/Colab Notebooks/final"
      ],
      "metadata": {
        "colab": {
          "base_uri": "https://localhost:8080/"
        },
        "id": "t1Ax3_uP3UxQ",
        "outputId": "dba3d6ee-7e51-4f11-d6d9-7f85ed2e36c1"
      },
      "execution_count": null,
      "outputs": [
        {
          "output_type": "stream",
          "name": "stdout",
          "text": [
            "/content/drive/MyDrive/Colab Notebooks/final\n"
          ]
        }
      ]
    },
    {
      "cell_type": "markdown",
      "source": [
        "# 라이브러리"
      ],
      "metadata": {
        "id": "Tq-AF-u-3q1C"
      }
    },
    {
      "cell_type": "code",
      "source": [
        "# 필요한 라이브러리 불러오기\n",
        "import numpy as np\n",
        "import pandas as pd\n",
        "import datetime\n",
        "import statsmodels.api as sm # 통계모델\n",
        "import matplotlib.pyplot as plt"
      ],
      "metadata": {
        "id": "4UOTQGDf3WE5"
      },
      "execution_count": null,
      "outputs": []
    },
    {
      "cell_type": "markdown",
      "source": [
        "# 데이터 불러오기"
      ],
      "metadata": {
        "id": "61Zj6xmN3sZZ"
      }
    },
    {
      "cell_type": "code",
      "source": [
        "# 데이터 불러오기\n",
        "# 시간 정리 끝난 파일임\n",
        "\n",
        "fanuc_chang = pd.read_csv('fanuc_chang.csv')"
      ],
      "metadata": {
        "id": "QUldfllS3War"
      },
      "execution_count": null,
      "outputs": []
    },
    {
      "cell_type": "markdown",
      "source": [
        "# 인덱스 설정"
      ],
      "metadata": {
        "id": "8KZIPQVa3tta"
      }
    },
    {
      "cell_type": "code",
      "source": [
        "fanuc_chang.drop(columns='Unnamed: 0', inplace = True) # 필요없는index drop"
      ],
      "metadata": {
        "id": "MSnypqcH3b0C"
      },
      "execution_count": null,
      "outputs": []
    },
    {
      "cell_type": "code",
      "source": [
        "fanuc_8 = fanuc_chang[['time', 'RW_WHEEL_REMAIN']][604800:691200]  # 하루만큼(len(fanuc_8) = 86400) 인덱스 슬라이싱해서 fanuc_8에 저장함.\n",
        "fanuc_chang.set_index('time', inplace=True)\n",
        "fanuc_8.set_index('time', inplace=True)"
      ],
      "metadata": {
        "id": "HaeMeA763dFY"
      },
      "execution_count": null,
      "outputs": []
    },
    {
      "cell_type": "markdown",
      "source": [
        "# 평가지표\n",
        "https://velog.io/@euisuk-chung/%EB%A8%B8%EC%8B%A0%EB%9F%AC%EB%8B%9D%EC%8B%9C%EA%B3%84%EC%97%B4-AR-MA-ARMA-ARIMA%EC%9D%98-%EB%AA%A8%EB%93%A0-%EA%B2%83-%EC%8B%A4%EC%8A%B5%ED%8E%B8"
      ],
      "metadata": {
        "id": "jndw6pSyRn0e"
      }
    },
    {
      "cell_type": "markdown",
      "source": [
        "## seasonal decomposition 함수\n",
        "\n",
        "- 데이터의 추세, 계절, 예측오차(residual)을 분리해내서 시각화 해줌.\n",
        "- 예측오차 그래프 : 평균과 분산을 알 수 있다.\n"
      ],
      "metadata": {
        "id": "l-kt-13oRqLI"
      }
    },
    {
      "cell_type": "code",
      "source": [
        "decompostion = sm.tsa.seasonal_decompose(data['customer'],  model='additive')\n",
        "fig = decompostion.plot()\n",
        "fig.set_size_inches(10,10)\n",
        "plt.show()"
      ],
      "metadata": {
        "id": "_RvFstHBRpZo"
      },
      "execution_count": null,
      "outputs": []
    },
    {
      "cell_type": "markdown",
      "source": [
        "# 모델 돌리기"
      ],
      "metadata": {
        "id": "5b6Phlke3wRW"
      }
    },
    {
      "cell_type": "code",
      "source": [
        "from statsmodels.tsa.arima.model import ARIMA"
      ],
      "metadata": {
        "id": "pZQ3Iban3vbj"
      },
      "execution_count": null,
      "outputs": []
    },
    {
      "cell_type": "code",
      "source": [
        "# 이런 식으로 모델을 구현할 건데 너무 오래 걸린다. 그래서 밑에 코드처럼 쪼개서 실행함.\n",
        "# cast_df = pd.DataFrame()\n",
        "\n",
        "# for i in range(0, 67):\n",
        "#   if i == 66:\n",
        "#     model_ARIMA = ARIMA(fanuc_chang[['RW_WHEEL_REMAIN']][24*60*60*i:5809440],\n",
        "#                         order=(3, 1, 2))\n",
        "#   else:\n",
        "#     j = 24*60*60*i\n",
        "#     model_ARIMA = ARIMA(fanuc_chang[['RW_WHEEL_REMAIN']][j:604800+j],\n",
        "#                         order=(3, 1, 2))\n",
        "\n",
        "#   model_ARIMA = model_ARIMA.fit()\n",
        "#   cast = model_ARIMA.forecast(steps = len(fanuc_8))\n",
        "#   cast = pd.DataFrame(cast)\n",
        "#   cast.reset_index(inplace=True)\n",
        "#   cast_df = pd.concat([cast_df,cast],  axis=0)"
      ],
      "metadata": {
        "id": "_gQZ4IVq33Ly"
      },
      "execution_count": null,
      "outputs": []
    },
    {
      "cell_type": "code",
      "source": [
        "len(fanuc_8)"
      ],
      "metadata": {
        "colab": {
          "base_uri": "https://localhost:8080/"
        },
        "id": "DtZE6o78817q",
        "outputId": "7bbc1976-ad69-4323-bd18-09a9fc6081f0"
      },
      "execution_count": null,
      "outputs": [
        {
          "output_type": "execute_result",
          "data": {
            "text/plain": [
              "86400"
            ]
          },
          "metadata": {},
          "execution_count": 14
        }
      ]
    },
    {
      "cell_type": "code",
      "source": [
        "# 모델을 돌리고 나면 결과값(cast)이 Series형태로 나온다.\n",
        "# 미리 cast_df라는 dataframe을 만들어둔다.\n",
        "# 그래서 결과값 cast를 dataframe 형태로 만들고\n",
        "# cast와 cast_df를 concat해준다.\n",
        "cast_df = pd.DataFrame()\n",
        "\n",
        "for i in range(0, 10):\n",
        "  j = 24*60*60*i\n",
        "  model_ARIMA = ARIMA(fanuc_chang[['RW_WHEEL_REMAIN']][j:604800+j],\n",
        "                        order=(3, 1, 2))\n",
        "\n",
        "  model_ARIMA = model_ARIMA.fit()\n",
        "  cast = model_ARIMA.forecast(steps = len(fanuc_8))\n",
        "  cast = pd.DataFrame(cast)\n",
        "  cast.reset_index(inplace=True)\n",
        "  cast_df = pd.concat([cast_df,cast],  axis=0)"
      ],
      "metadata": {
        "id": "H3ynDMuP0zXl"
      },
      "execution_count": null,
      "outputs": []
    },
    {
      "cell_type": "code",
      "source": [
        "# 위에 만들어둔 cast_df에 새로운 결과값 cast를 이어 붙인다.\n",
        "for i in range(10, 20):\n",
        "  j = 24*60*60*i\n",
        "  model_ARIMA = ARIMA(fanuc_chang[['RW_WHEEL_REMAIN']][j:604800+j],\n",
        "                        order=(3, 1, 2))\n",
        "\n",
        "  model_ARIMA = model_ARIMA.fit()\n",
        "  cast = model_ARIMA.forecast(steps = len(fanuc_8))\n",
        "  cast = pd.DataFrame(cast)\n",
        "  cast.reset_index(inplace=True)\n",
        "  cast_df = pd.concat([cast_df,cast],  axis=0)\n",
        "  print(cast_df)"
      ],
      "metadata": {
        "id": "-UlwJgU20zZq"
      },
      "execution_count": null,
      "outputs": []
    },
    {
      "cell_type": "code",
      "source": [
        "# cast_df에 새로운 결과값 cast를 이어 붙인다. (위와 동일) -> 이걸 반복하면 cast_df에 결과값이 누적되어서 저장됨.\n",
        "for i in range(20, 30):\n",
        "  j = 24*60*60*i\n",
        "  model_ARIMA = ARIMA(fanuc_chang[['RW_WHEEL_REMAIN']][j:604800+j],\n",
        "                        order=(3, 1, 2))\n",
        "\n",
        "  model_ARIMA = model_ARIMA.fit()\n",
        "  cast = model_ARIMA.forecast(steps = len(fanuc_8))\n",
        "  cast = pd.DataFrame(cast)\n",
        "  cast.reset_index(inplace=True)\n",
        "  cast_df = pd.concat([cast_df,cast],  axis=0)\n",
        "  print(cast_df)"
      ],
      "metadata": {
        "id": "ZSboZGaT0zdM"
      },
      "execution_count": null,
      "outputs": []
    },
    {
      "cell_type": "code",
      "source": [
        "for i in range(30, 40):\n",
        "  j = 24*60*60*i\n",
        "  model_ARIMA = ARIMA(fanuc_chang[['RW_WHEEL_REMAIN']][j:604800+j],\n",
        "                        order=(3, 1, 2))\n",
        "\n",
        "  model_ARIMA = model_ARIMA.fit()\n",
        "  cast = model_ARIMA.forecast(steps = len(fanuc_8))\n",
        "  cast = pd.DataFrame(cast)\n",
        "  cast.reset_index(inplace=True)\n",
        "  cast_df = pd.concat([cast_df,cast],  axis=0)\n",
        "  print(cast_df)\n",
        "\n"
      ],
      "metadata": {
        "colab": {
          "base_uri": "https://localhost:8080/"
        },
        "id": "S3zYkktLNYPv",
        "outputId": "0934982f-c5c4-42a7-bf29-2aea8bedb7a2"
      },
      "execution_count": null,
      "outputs": [
        {
          "output_type": "stream",
          "name": "stderr",
          "text": [
            "/usr/local/lib/python3.8/dist-packages/statsmodels/tsa/base/tsa_model.py:524: ValueWarning: No frequency information was provided, so inferred frequency S will be used.\n",
            "  warnings.warn('No frequency information was'\n",
            "/usr/local/lib/python3.8/dist-packages/statsmodels/tsa/base/tsa_model.py:524: ValueWarning: No frequency information was provided, so inferred frequency S will be used.\n",
            "  warnings.warn('No frequency information was'\n",
            "/usr/local/lib/python3.8/dist-packages/statsmodels/tsa/base/tsa_model.py:524: ValueWarning: No frequency information was provided, so inferred frequency S will be used.\n",
            "  warnings.warn('No frequency information was'\n",
            "/usr/local/lib/python3.8/dist-packages/statsmodels/base/model.py:566: ConvergenceWarning: Maximum Likelihood optimization failed to converge. Check mle_retvals\n",
            "  warnings.warn(\"Maximum Likelihood optimization failed to \"\n"
          ]
        },
        {
          "output_type": "stream",
          "name": "stdout",
          "text": [
            "                     index  predicted_mean\n",
            "0      2022-11-11 16:39:48        9.957762\n",
            "1      2022-11-11 16:39:49        9.957762\n",
            "2      2022-11-11 16:39:50        9.957762\n",
            "3      2022-11-11 16:39:51        9.957762\n",
            "4      2022-11-11 16:39:52        9.957762\n",
            "...                    ...             ...\n",
            "86395  2022-12-12 16:39:43        8.957772\n",
            "86396  2022-12-12 16:39:44        8.957772\n",
            "86397  2022-12-12 16:39:45        8.957772\n",
            "86398  2022-12-12 16:39:46        8.957772\n",
            "86399  2022-12-12 16:39:47        8.957772\n",
            "\n",
            "[2678400 rows x 2 columns]\n"
          ]
        },
        {
          "output_type": "stream",
          "name": "stderr",
          "text": [
            "/usr/local/lib/python3.8/dist-packages/statsmodels/tsa/base/tsa_model.py:524: ValueWarning: No frequency information was provided, so inferred frequency S will be used.\n",
            "  warnings.warn('No frequency information was'\n",
            "/usr/local/lib/python3.8/dist-packages/statsmodels/tsa/base/tsa_model.py:524: ValueWarning: No frequency information was provided, so inferred frequency S will be used.\n",
            "  warnings.warn('No frequency information was'\n",
            "/usr/local/lib/python3.8/dist-packages/statsmodels/tsa/base/tsa_model.py:524: ValueWarning: No frequency information was provided, so inferred frequency S will be used.\n",
            "  warnings.warn('No frequency information was'\n",
            "/usr/local/lib/python3.8/dist-packages/statsmodels/base/model.py:566: ConvergenceWarning: Maximum Likelihood optimization failed to converge. Check mle_retvals\n",
            "  warnings.warn(\"Maximum Likelihood optimization failed to \"\n"
          ]
        },
        {
          "output_type": "stream",
          "name": "stdout",
          "text": [
            "                     index  predicted_mean\n",
            "0      2022-11-11 16:39:48        9.957762\n",
            "1      2022-11-11 16:39:49        9.957762\n",
            "2      2022-11-11 16:39:50        9.957762\n",
            "3      2022-11-11 16:39:51        9.957762\n",
            "4      2022-11-11 16:39:52        9.957762\n",
            "...                    ...             ...\n",
            "86395  2022-12-13 16:39:43        8.946092\n",
            "86396  2022-12-13 16:39:44        8.946092\n",
            "86397  2022-12-13 16:39:45        8.946092\n",
            "86398  2022-12-13 16:39:46        8.946092\n",
            "86399  2022-12-13 16:39:47        8.946092\n",
            "\n",
            "[2764800 rows x 2 columns]\n"
          ]
        },
        {
          "output_type": "stream",
          "name": "stderr",
          "text": [
            "/usr/local/lib/python3.8/dist-packages/statsmodels/tsa/base/tsa_model.py:524: ValueWarning: No frequency information was provided, so inferred frequency S will be used.\n",
            "  warnings.warn('No frequency information was'\n",
            "/usr/local/lib/python3.8/dist-packages/statsmodels/tsa/base/tsa_model.py:524: ValueWarning: No frequency information was provided, so inferred frequency S will be used.\n",
            "  warnings.warn('No frequency information was'\n",
            "/usr/local/lib/python3.8/dist-packages/statsmodels/tsa/base/tsa_model.py:524: ValueWarning: No frequency information was provided, so inferred frequency S will be used.\n",
            "  warnings.warn('No frequency information was'\n",
            "/usr/local/lib/python3.8/dist-packages/statsmodels/base/model.py:566: ConvergenceWarning: Maximum Likelihood optimization failed to converge. Check mle_retvals\n",
            "  warnings.warn(\"Maximum Likelihood optimization failed to \"\n"
          ]
        },
        {
          "output_type": "stream",
          "name": "stdout",
          "text": [
            "                     index  predicted_mean\n",
            "0      2022-11-11 16:39:48        9.957762\n",
            "1      2022-11-11 16:39:49        9.957762\n",
            "2      2022-11-11 16:39:50        9.957762\n",
            "3      2022-11-11 16:39:51        9.957762\n",
            "4      2022-11-11 16:39:52        9.957762\n",
            "...                    ...             ...\n",
            "86395  2022-12-14 16:39:43        8.900762\n",
            "86396  2022-12-14 16:39:44        8.900762\n",
            "86397  2022-12-14 16:39:45        8.900762\n",
            "86398  2022-12-14 16:39:46        8.900762\n",
            "86399  2022-12-14 16:39:47        8.900762\n",
            "\n",
            "[2851200 rows x 2 columns]\n"
          ]
        },
        {
          "output_type": "stream",
          "name": "stderr",
          "text": [
            "/usr/local/lib/python3.8/dist-packages/statsmodels/tsa/base/tsa_model.py:524: ValueWarning: No frequency information was provided, so inferred frequency S will be used.\n",
            "  warnings.warn('No frequency information was'\n",
            "/usr/local/lib/python3.8/dist-packages/statsmodels/tsa/base/tsa_model.py:524: ValueWarning: No frequency information was provided, so inferred frequency S will be used.\n",
            "  warnings.warn('No frequency information was'\n",
            "/usr/local/lib/python3.8/dist-packages/statsmodels/tsa/base/tsa_model.py:524: ValueWarning: No frequency information was provided, so inferred frequency S will be used.\n",
            "  warnings.warn('No frequency information was'\n",
            "/usr/local/lib/python3.8/dist-packages/statsmodels/base/model.py:566: ConvergenceWarning: Maximum Likelihood optimization failed to converge. Check mle_retvals\n",
            "  warnings.warn(\"Maximum Likelihood optimization failed to \"\n"
          ]
        },
        {
          "output_type": "stream",
          "name": "stdout",
          "text": [
            "                     index  predicted_mean\n",
            "0      2022-11-11 16:39:48        9.957762\n",
            "1      2022-11-11 16:39:49        9.957762\n",
            "2      2022-11-11 16:39:50        9.957762\n",
            "3      2022-11-11 16:39:51        9.957762\n",
            "4      2022-11-11 16:39:52        9.957762\n",
            "...                    ...             ...\n",
            "86395  2022-12-15 16:39:43        8.829541\n",
            "86396  2022-12-15 16:39:44        8.829540\n",
            "86397  2022-12-15 16:39:45        8.829540\n",
            "86398  2022-12-15 16:39:46        8.829540\n",
            "86399  2022-12-15 16:39:47        8.829540\n",
            "\n",
            "[2937600 rows x 2 columns]\n"
          ]
        },
        {
          "output_type": "stream",
          "name": "stderr",
          "text": [
            "/usr/local/lib/python3.8/dist-packages/statsmodels/tsa/base/tsa_model.py:524: ValueWarning: No frequency information was provided, so inferred frequency S will be used.\n",
            "  warnings.warn('No frequency information was'\n",
            "/usr/local/lib/python3.8/dist-packages/statsmodels/tsa/base/tsa_model.py:524: ValueWarning: No frequency information was provided, so inferred frequency S will be used.\n",
            "  warnings.warn('No frequency information was'\n",
            "/usr/local/lib/python3.8/dist-packages/statsmodels/tsa/base/tsa_model.py:524: ValueWarning: No frequency information was provided, so inferred frequency S will be used.\n",
            "  warnings.warn('No frequency information was'\n"
          ]
        },
        {
          "output_type": "stream",
          "name": "stdout",
          "text": [
            "                     index  predicted_mean\n",
            "0      2022-11-11 16:39:48        9.957762\n",
            "1      2022-11-11 16:39:49        9.957762\n",
            "2      2022-11-11 16:39:50        9.957762\n",
            "3      2022-11-11 16:39:51        9.957762\n",
            "4      2022-11-11 16:39:52        9.957762\n",
            "...                    ...             ...\n",
            "86395  2022-12-16 16:39:43        8.791763\n",
            "86396  2022-12-16 16:39:44        8.791763\n",
            "86397  2022-12-16 16:39:45        8.791763\n",
            "86398  2022-12-16 16:39:46        8.791763\n",
            "86399  2022-12-16 16:39:47        8.791762\n",
            "\n",
            "[3024000 rows x 2 columns]\n"
          ]
        },
        {
          "output_type": "stream",
          "name": "stderr",
          "text": [
            "/usr/local/lib/python3.8/dist-packages/statsmodels/tsa/base/tsa_model.py:524: ValueWarning: No frequency information was provided, so inferred frequency S will be used.\n",
            "  warnings.warn('No frequency information was'\n",
            "/usr/local/lib/python3.8/dist-packages/statsmodels/tsa/base/tsa_model.py:524: ValueWarning: No frequency information was provided, so inferred frequency S will be used.\n",
            "  warnings.warn('No frequency information was'\n",
            "/usr/local/lib/python3.8/dist-packages/statsmodels/tsa/base/tsa_model.py:524: ValueWarning: No frequency information was provided, so inferred frequency S will be used.\n",
            "  warnings.warn('No frequency information was'\n",
            "/usr/local/lib/python3.8/dist-packages/statsmodels/base/model.py:566: ConvergenceWarning: Maximum Likelihood optimization failed to converge. Check mle_retvals\n",
            "  warnings.warn(\"Maximum Likelihood optimization failed to \"\n"
          ]
        },
        {
          "output_type": "stream",
          "name": "stdout",
          "text": [
            "                     index  predicted_mean\n",
            "0      2022-11-11 16:39:48        9.957762\n",
            "1      2022-11-11 16:39:49        9.957762\n",
            "2      2022-11-11 16:39:50        9.957762\n",
            "3      2022-11-11 16:39:51        9.957762\n",
            "4      2022-11-11 16:39:52        9.957762\n",
            "...                    ...             ...\n",
            "86395  2022-12-17 16:39:43        8.756349\n",
            "86396  2022-12-17 16:39:44        8.756349\n",
            "86397  2022-12-17 16:39:45        8.756349\n",
            "86398  2022-12-17 16:39:46        8.756349\n",
            "86399  2022-12-17 16:39:47        8.756348\n",
            "\n",
            "[3110400 rows x 2 columns]\n"
          ]
        },
        {
          "output_type": "stream",
          "name": "stderr",
          "text": [
            "/usr/local/lib/python3.8/dist-packages/statsmodels/tsa/base/tsa_model.py:524: ValueWarning: No frequency information was provided, so inferred frequency S will be used.\n",
            "  warnings.warn('No frequency information was'\n",
            "/usr/local/lib/python3.8/dist-packages/statsmodels/tsa/base/tsa_model.py:524: ValueWarning: No frequency information was provided, so inferred frequency S will be used.\n",
            "  warnings.warn('No frequency information was'\n",
            "/usr/local/lib/python3.8/dist-packages/statsmodels/tsa/base/tsa_model.py:524: ValueWarning: No frequency information was provided, so inferred frequency S will be used.\n",
            "  warnings.warn('No frequency information was'\n",
            "/usr/local/lib/python3.8/dist-packages/statsmodels/base/model.py:566: ConvergenceWarning: Maximum Likelihood optimization failed to converge. Check mle_retvals\n",
            "  warnings.warn(\"Maximum Likelihood optimization failed to \"\n"
          ]
        },
        {
          "output_type": "stream",
          "name": "stdout",
          "text": [
            "                     index  predicted_mean\n",
            "0      2022-11-11 16:39:48        9.957762\n",
            "1      2022-11-11 16:39:49        9.957762\n",
            "2      2022-11-11 16:39:50        9.957762\n",
            "3      2022-11-11 16:39:51        9.957762\n",
            "4      2022-11-11 16:39:52        9.957762\n",
            "...                    ...             ...\n",
            "86395  2022-12-18 16:39:43        8.721508\n",
            "86396  2022-12-18 16:39:44        8.721508\n",
            "86397  2022-12-18 16:39:45        8.721508\n",
            "86398  2022-12-18 16:39:46        8.721507\n",
            "86399  2022-12-18 16:39:47        8.721507\n",
            "\n",
            "[3196800 rows x 2 columns]\n"
          ]
        },
        {
          "output_type": "stream",
          "name": "stderr",
          "text": [
            "/usr/local/lib/python3.8/dist-packages/statsmodels/tsa/base/tsa_model.py:524: ValueWarning: No frequency information was provided, so inferred frequency S will be used.\n",
            "  warnings.warn('No frequency information was'\n",
            "/usr/local/lib/python3.8/dist-packages/statsmodels/tsa/base/tsa_model.py:524: ValueWarning: No frequency information was provided, so inferred frequency S will be used.\n",
            "  warnings.warn('No frequency information was'\n",
            "/usr/local/lib/python3.8/dist-packages/statsmodels/tsa/base/tsa_model.py:524: ValueWarning: No frequency information was provided, so inferred frequency S will be used.\n",
            "  warnings.warn('No frequency information was'\n",
            "/usr/local/lib/python3.8/dist-packages/statsmodels/base/model.py:566: ConvergenceWarning: Maximum Likelihood optimization failed to converge. Check mle_retvals\n",
            "  warnings.warn(\"Maximum Likelihood optimization failed to \"\n"
          ]
        },
        {
          "output_type": "stream",
          "name": "stdout",
          "text": [
            "                     index  predicted_mean\n",
            "0      2022-11-11 16:39:48        9.957762\n",
            "1      2022-11-11 16:39:49        9.957762\n",
            "2      2022-11-11 16:39:50        9.957762\n",
            "3      2022-11-11 16:39:51        9.957762\n",
            "4      2022-11-11 16:39:52        9.957762\n",
            "...                    ...             ...\n",
            "86395  2022-12-19 16:39:43        8.686698\n",
            "86396  2022-12-19 16:39:44        8.686698\n",
            "86397  2022-12-19 16:39:45        8.686697\n",
            "86398  2022-12-19 16:39:46        8.686697\n",
            "86399  2022-12-19 16:39:47        8.686697\n",
            "\n",
            "[3283200 rows x 2 columns]\n"
          ]
        },
        {
          "output_type": "stream",
          "name": "stderr",
          "text": [
            "/usr/local/lib/python3.8/dist-packages/statsmodels/tsa/base/tsa_model.py:524: ValueWarning: No frequency information was provided, so inferred frequency S will be used.\n",
            "  warnings.warn('No frequency information was'\n",
            "/usr/local/lib/python3.8/dist-packages/statsmodels/tsa/base/tsa_model.py:524: ValueWarning: No frequency information was provided, so inferred frequency S will be used.\n",
            "  warnings.warn('No frequency information was'\n",
            "/usr/local/lib/python3.8/dist-packages/statsmodels/tsa/base/tsa_model.py:524: ValueWarning: No frequency information was provided, so inferred frequency S will be used.\n",
            "  warnings.warn('No frequency information was'\n"
          ]
        },
        {
          "output_type": "stream",
          "name": "stdout",
          "text": [
            "                     index  predicted_mean\n",
            "0      2022-11-11 16:39:48        9.957762\n",
            "1      2022-11-11 16:39:49        9.957762\n",
            "2      2022-11-11 16:39:50        9.957762\n",
            "3      2022-11-11 16:39:51        9.957762\n",
            "4      2022-11-11 16:39:52        9.957762\n",
            "...                    ...             ...\n",
            "86395  2022-12-20 16:39:43        8.650765\n",
            "86396  2022-12-20 16:39:44        8.650764\n",
            "86397  2022-12-20 16:39:45        8.650764\n",
            "86398  2022-12-20 16:39:46        8.650764\n",
            "86399  2022-12-20 16:39:47        8.650764\n",
            "\n",
            "[3369600 rows x 2 columns]\n"
          ]
        },
        {
          "output_type": "stream",
          "name": "stderr",
          "text": [
            "/usr/local/lib/python3.8/dist-packages/statsmodels/tsa/base/tsa_model.py:524: ValueWarning: No frequency information was provided, so inferred frequency S will be used.\n",
            "  warnings.warn('No frequency information was'\n",
            "/usr/local/lib/python3.8/dist-packages/statsmodels/tsa/base/tsa_model.py:524: ValueWarning: No frequency information was provided, so inferred frequency S will be used.\n",
            "  warnings.warn('No frequency information was'\n",
            "/usr/local/lib/python3.8/dist-packages/statsmodels/tsa/base/tsa_model.py:524: ValueWarning: No frequency information was provided, so inferred frequency S will be used.\n",
            "  warnings.warn('No frequency information was'\n",
            "/usr/local/lib/python3.8/dist-packages/statsmodels/tsa/statespace/sarimax.py:966: UserWarning: Non-stationary starting autoregressive parameters found. Using zeros as starting parameters.\n",
            "  warn('Non-stationary starting autoregressive parameters'\n",
            "/usr/local/lib/python3.8/dist-packages/statsmodels/tsa/statespace/sarimax.py:978: UserWarning: Non-invertible starting MA parameters found. Using zeros as starting parameters.\n",
            "  warn('Non-invertible starting MA parameters found.'\n",
            "/usr/local/lib/python3.8/dist-packages/statsmodels/base/model.py:566: ConvergenceWarning: Maximum Likelihood optimization failed to converge. Check mle_retvals\n",
            "  warnings.warn(\"Maximum Likelihood optimization failed to \"\n"
          ]
        },
        {
          "output_type": "stream",
          "name": "stdout",
          "text": [
            "                     index  predicted_mean\n",
            "0      2022-11-11 16:39:48        9.957762\n",
            "1      2022-11-11 16:39:49        9.957762\n",
            "2      2022-11-11 16:39:50        9.957762\n",
            "3      2022-11-11 16:39:51        9.957762\n",
            "4      2022-11-11 16:39:52        9.957762\n",
            "...                    ...             ...\n",
            "86395  2022-12-21 16:39:43        8.641801\n",
            "86396  2022-12-21 16:39:44        8.641801\n",
            "86397  2022-12-21 16:39:45        8.641801\n",
            "86398  2022-12-21 16:39:46        8.641801\n",
            "86399  2022-12-21 16:39:47        8.641801\n",
            "\n",
            "[3456000 rows x 2 columns]\n"
          ]
        }
      ]
    },
    {
      "cell_type": "code",
      "source": [
        "for i in range(44, 50):\n",
        "  j = 24*60*60*i\n",
        "  model_ARIMA = ARIMA(fanuc_chang[['RW_WHEEL_REMAIN']][j:604800+j],\n",
        "                        order=(3, 1, 2))\n",
        "  model_ARIMA.initialize_approximate_diffuse()\n",
        "  model_ARIMA = model_ARIMA.fit()\n",
        "  cast = model_ARIMA.forecast(steps = len(fanuc_8))\n",
        "  cast = pd.DataFrame(cast)\n",
        "  cast.reset_index(inplace=True)\n",
        "  cast_df = pd.concat([cast_df,cast],  axis=0)\n",
        "  print(cast_df)"
      ],
      "metadata": {
        "id": "h0kjWIBANe-v"
      },
      "execution_count": null,
      "outputs": []
    },
    {
      "cell_type": "code",
      "source": [
        "for i in range(50, 66):\n",
        "  j = 24*60*60*i\n",
        "  model_ARIMA = ARIMA(fanuc_chang[['RW_WHEEL_REMAIN']][j:604800+j],\n",
        "                        order=(3, 1, 2))\n",
        "\n",
        "  model_ARIMA = model_ARIMA.fit()\n",
        "  cast = model_ARIMA.forecast(steps = len(fanuc_8))\n",
        "  cast = pd.DataFrame(cast)\n",
        "  cast.reset_index(inplace=True)\n",
        "  cast_df = pd.concat([cast_df,cast],  axis=0)\n",
        "  print(cast_df)"
      ],
      "metadata": {
        "id": "oOeC0WsRNh9B"
      },
      "execution_count": null,
      "outputs": []
    },
    {
      "cell_type": "code",
      "source": [
        "# 여기가 마지막\n",
        "j = 24*60*60*66\n",
        "model_ARIMA = ARIMA(fanuc_chang[['RW_WHEEL_REMAIN']][j:5809440],\n",
        "                        order=(3, 1, 2))\n",
        "\n",
        "model_ARIMA = model_ARIMA.fit()\n",
        "cast = model_ARIMA.forecast(steps = len(fanuc_8))\n",
        "cast = pd.DataFrame(cast)\n",
        "cast.reset_index(inplace=True)\n",
        "cast_df = pd.concat([cast_df,cast],  axis=0)\n",
        "print(cast_df)\n"
      ],
      "metadata": {
        "colab": {
          "base_uri": "https://localhost:8080/"
        },
        "id": "D8h8l4kbNq4X",
        "outputId": "ccc12a04-8aa0-4366-af0d-0030bf3a4ed7"
      },
      "execution_count": null,
      "outputs": [
        {
          "output_type": "stream",
          "name": "stderr",
          "text": [
            "/usr/local/lib/python3.8/dist-packages/statsmodels/tsa/base/tsa_model.py:524: ValueWarning: No frequency information was provided, so inferred frequency S will be used.\n",
            "  warnings.warn('No frequency information was'\n",
            "/usr/local/lib/python3.8/dist-packages/statsmodels/tsa/base/tsa_model.py:524: ValueWarning: No frequency information was provided, so inferred frequency S will be used.\n",
            "  warnings.warn('No frequency information was'\n",
            "/usr/local/lib/python3.8/dist-packages/statsmodels/tsa/base/tsa_model.py:524: ValueWarning: No frequency information was provided, so inferred frequency S will be used.\n",
            "  warnings.warn('No frequency information was'\n",
            "/usr/local/lib/python3.8/dist-packages/statsmodels/base/model.py:566: ConvergenceWarning: Maximum Likelihood optimization failed to converge. Check mle_retvals\n",
            "  warnings.warn(\"Maximum Likelihood optimization failed to \"\n"
          ]
        },
        {
          "output_type": "stream",
          "name": "stdout",
          "text": [
            "                     index  predicted_mean\n",
            "0      2022-11-11 16:39:48        9.957762\n",
            "1      2022-11-11 16:39:49        9.957762\n",
            "2      2022-11-11 16:39:50        9.957762\n",
            "3      2022-11-11 16:39:51        9.957762\n",
            "4      2022-11-11 16:39:52        9.957762\n",
            "...                    ...             ...\n",
            "86395  2023-01-11 22:23:43        7.960310\n",
            "86396  2023-01-11 22:23:44        7.960310\n",
            "86397  2023-01-11 22:23:45        7.960310\n",
            "86398  2023-01-11 22:23:46        7.960310\n",
            "86399  2023-01-11 22:23:47        7.960310\n",
            "\n",
            "[5788800 rows x 2 columns]\n"
          ]
        }
      ]
    },
    {
      "cell_type": "code",
      "source": [
        "# cast_df를 csv 파일로 저장\n",
        "cast_df.to_csv('cast_df.csv',index=False)"
      ],
      "metadata": {
        "id": "jtZpeRCU4ScQ"
      },
      "execution_count": null,
      "outputs": []
    },
    {
      "cell_type": "code",
      "source": [
        "cast_df = pd.read_csv('cast_df.csv')"
      ],
      "metadata": {
        "id": "a88Sx5WLcu21"
      },
      "execution_count": null,
      "outputs": []
    },
    {
      "cell_type": "code",
      "source": [
        "# 그래프 그리기\n",
        "import matplotlib.pyplot as plt\n",
        "plt.plot(fanuc_chang['RW_WHEEL_REMAIN'])\n",
        "plt.plot(cast_df)\n",
        "plt.xticks(rotation = 45)\n",
        "plt.show()"
      ],
      "metadata": {
        "id": "LVgTp-51wUZ8"
      },
      "execution_count": null,
      "outputs": []
    },
    {
      "cell_type": "markdown",
      "source": [
        "## GW도 같은 방식으로 진행"
      ],
      "metadata": {
        "id": "BHRL_7pm60dh"
      }
    },
    {
      "cell_type": "code",
      "source": [
        "cast_df_GW = pd.DataFrame()\n",
        "\n",
        "for i in range(0, 66):\n",
        "  j = 24*60*60*i\n",
        "  model_ARIMA = ARIMA(fanuc_chang[['GW_WHEEL_REMAIN']][j:604800+j],\n",
        "                        order=(3, 1, 2))\n",
        "\n",
        "  model_ARIMA.initialize_approximate_diffuse()\n",
        "  model_ARIMA = model_ARIMA.fit()\n",
        "  cast = model_ARIMA.forecast(steps = len(fanuc_8))\n",
        "  cast = pd.DataFrame(cast)\n",
        "  cast.reset_index(inplace=True)\n",
        "  cast_df_GW = pd.concat([cast_df_GW,cast],  axis=0)"
      ],
      "metadata": {
        "id": "nPKBU4qHwvCH"
      },
      "execution_count": null,
      "outputs": []
    },
    {
      "cell_type": "code",
      "source": [
        "cast_df_GW.to_csv('cast_df_GW.csv',index=False)"
      ],
      "metadata": {
        "id": "sE_g6Fcu7hwL"
      },
      "execution_count": null,
      "outputs": []
    },
    {
      "cell_type": "code",
      "source": [
        "plt.plot(cast_df_GW.set_index('index', inplace=True))\n",
        "plt.plot(fanuc_chang['GW_WHEEL_REMAIN'])\n",
        "plt.show()\n"
      ],
      "metadata": {
        "colab": {
          "base_uri": "https://localhost:8080/",
          "height": 303
        },
        "id": "LZa7U03oeWvJ",
        "outputId": "2dc60591-12e5-42e3-8c86-5257116e92c8"
      },
      "execution_count": null,
      "outputs": [
        {
          "output_type": "execute_result",
          "data": {
            "text/plain": [
              "<matplotlib.axes._subplots.AxesSubplot at 0x7f3fa2fbbaf0>"
            ]
          },
          "metadata": {},
          "execution_count": 70
        },
        {
          "output_type": "display_data",
          "data": {
            "text/plain": [
              "<Figure size 432x288 with 1 Axes>"
            ],
            "image/png": "[encoded data removed]"
          },
          "metadata": {
            "needs_background": "light"
          }
        }
      ]
    },
    {
      "cell_type": "code",
      "source": [
        "j = 24*60*60*66\n",
        "model_ARIMA = ARIMA(fanuc_chang[['GW_WHEEL_REMAIN']][j:5809440],\n",
        "                        order=(3, 1, 2))\n",
        "\n",
        "model_ARIMA = model_ARIMA.fit()\n",
        "cast = model_ARIMA.forecast(steps = len(fanuc_8)*2)\n",
        "cast = pd.DataFrame(cast)\n",
        "cast.reset_index(inplace=True)\n",
        "cast_df_GW = pd.concat([cast_df_GW,cast],  axis=0)\n",
        "print(cast)"
      ],
      "metadata": {
        "id": "n4aYmMpM7dvl",
        "colab": {
          "base_uri": "https://localhost:8080/"
        },
        "outputId": "c37e1b27-441f-469c-e4a0-b5728aecf2b1"
      },
      "execution_count": null,
      "outputs": [
        {
          "output_type": "stream",
          "name": "stderr",
          "text": [
            "/usr/local/lib/python3.8/dist-packages/statsmodels/tsa/base/tsa_model.py:524: ValueWarning: No frequency information was provided, so inferred frequency S will be used.\n",
            "  warnings.warn('No frequency information was'\n",
            "/usr/local/lib/python3.8/dist-packages/statsmodels/tsa/base/tsa_model.py:524: ValueWarning: No frequency information was provided, so inferred frequency S will be used.\n",
            "  warnings.warn('No frequency information was'\n",
            "/usr/local/lib/python3.8/dist-packages/statsmodels/tsa/base/tsa_model.py:524: ValueWarning: No frequency information was provided, so inferred frequency S will be used.\n",
            "  warnings.warn('No frequency information was'\n",
            "/usr/local/lib/python3.8/dist-packages/statsmodels/tsa/statespace/sarimax.py:966: UserWarning: Non-stationary starting autoregressive parameters found. Using zeros as starting parameters.\n",
            "  warn('Non-stationary starting autoregressive parameters'\n",
            "/usr/local/lib/python3.8/dist-packages/statsmodels/tsa/statespace/sarimax.py:978: UserWarning: Non-invertible starting MA parameters found. Using zeros as starting parameters.\n",
            "  warn('Non-invertible starting MA parameters found.'\n",
            "/usr/local/lib/python3.8/dist-packages/statsmodels/base/model.py:566: ConvergenceWarning: Maximum Likelihood optimization failed to converge. Check mle_retvals\n",
            "  warnings.warn(\"Maximum Likelihood optimization failed to \"\n"
          ]
        },
        {
          "output_type": "stream",
          "name": "stdout",
          "text": [
            "                     index  predicted_mean\n",
            "0      2023-01-10 22:23:48         50.6495\n",
            "1      2023-01-10 22:23:49         50.6495\n",
            "2      2023-01-10 22:23:50         50.6495\n",
            "3      2023-01-10 22:23:51         50.6495\n",
            "4      2023-01-10 22:23:52         50.6495\n",
            "...                    ...             ...\n",
            "172795 2023-01-12 22:23:43         50.6495\n",
            "172796 2023-01-12 22:23:44         50.6495\n",
            "172797 2023-01-12 22:23:45         50.6495\n",
            "172798 2023-01-12 22:23:46         50.6495\n",
            "172799 2023-01-12 22:23:47         50.6495\n",
            "\n",
            "[172800 rows x 2 columns]\n"
          ]
        }
      ]
    },
    {
      "cell_type": "markdown",
      "source": [
        "# 이미 저장한 파일 불러오는 용도\n",
        "\n"
      ],
      "metadata": {
        "id": "8seM1ncl6Tme"
      }
    },
    {
      "cell_type": "code",
      "source": [
        "# 저장한 csv 파일을 불러온다.\n",
        "dfdf = pd.read_csv('cast_df_GW.csv')\n",
        "castdf = pd.read_csv('cast_df.csv')"
      ],
      "metadata": {
        "id": "Ns7_9Z9QcEEX"
      },
      "execution_count": null,
      "outputs": []
    },
    {
      "cell_type": "code",
      "source": [
        "# 열 이름 바꾸기\n",
        "castdf = castdf.rename(columns = {'index':'time', 'predicted_mean':'predicted_mean_rw'})\n",
        "dfdf = dfdf.rename(columns = {'index':'time', 'predicted_mean':'predicted_mean_gw'})"
      ],
      "metadata": {
        "id": "48LLhTUlGRy8"
      },
      "execution_count": null,
      "outputs": []
    },
    {
      "cell_type": "code",
      "source": [
        "# dataframe을 csv로 저장\n",
        "castdf.to_csv('arima_rw.csv') # rw를 arima로 예측한 값을 담은 csv\n",
        "dfdf.to_csv('arima_gw.csv')  # gw를 arima로 예측한 값을 담은 csv"
      ],
      "metadata": {
        "id": "FUnc9ARhMOFL"
      },
      "execution_count": null,
      "outputs": []
    },
    {
      "cell_type": "markdown",
      "source": [
        "# 모델 평가"
      ],
      "metadata": {
        "id": "jRdXmuHp9cy3"
      }
    },
    {
      "cell_type": "code",
      "source": [
        "from sklearn import metrics\n",
        "\n",
        "def mae(y_true, y_pred):\n",
        "    return metrics.mean_absolute_error(y_true,y_pred) #MAE\n",
        "def mse(y_true, y_pred):\n",
        "    return metrics.mean_squared_error(y_true,y_pred) # MSE\n",
        "def rmse(y_true, y_pred):\n",
        "    return np.sqrt(metrics.mean_squared_error(y_true,y_pred))  # RMSE\n",
        "def r2(y_true, y_pred):\n",
        "    return metrics.r2_score(y_true,y_pred) # R2\n",
        "def mape(y_true, y_pred):\n",
        "    return np.mean(np.abs((y_pred - y_true) / y_true)) * 100 # MAPE\n",
        "\n",
        "def get_score(model, y_true, y_pred):\n",
        "    model = model\n",
        "    mae_val = mae(y_true, y_pred)\n",
        "    mse_val = mse(y_true, y_pred)\n",
        "    rmse_val = rmse(y_true, y_pred)\n",
        "    r2_val = r2(y_true, y_pred)\n",
        "    mape_val = mape(y_true, y_pred)\n",
        "\n",
        "    score_dict = {\"model\": model,\n",
        "                  \"mae\" :  mae_val,\n",
        "                  \"mse\" :  mse_val,\n",
        "                  \"rmse\" : rmse_val,\n",
        "                  \"r2\":    r2_val,\n",
        "                  \"mape\" : mape_val\n",
        "                 }\n",
        "    return score_dict"
      ],
      "metadata": {
        "id": "k5o27OQNTdUy"
      },
      "execution_count": null,
      "outputs": []
    },
    {
      "cell_type": "code",
      "source": [
        "# gw 교체한 시기가 없어서 0으로 예측을 하여 mape 가 상대적으로 높게 나옴\n",
        "get_score('arima', fanuc_chang_for_rmse, arima_gw_for_rmse)"
      ],
      "metadata": {
        "colab": {
          "base_uri": "https://localhost:8080/"
        },
        "id": "9-YJ2FxTTvRI",
        "outputId": "50c81445-839a-46e0-ec12-706f3b068650"
      },
      "execution_count": null,
      "outputs": [
        {
          "output_type": "execute_result",
          "data": {
            "text/plain": [
              "{'model': 'arima',\n",
              " 'mae': 0.2970031868313044,\n",
              " 'mse': 0.1648845612401591,\n",
              " 'rmse': 0.40605980007895276,\n",
              " 'r2': 0.9984243869364873,\n",
              " 'mape': 3.791772876941578}"
            ]
          },
          "metadata": {},
          "execution_count": 79
        }
      ]
    },
    {
      "cell_type": "code",
      "source": [
        "# rw\n",
        "get_score('arima', y_test_rw, y_pred_rw)"
      ],
      "metadata": {
        "colab": {
          "base_uri": "https://localhost:8080/"
        },
        "id": "smK5LciFUJrW",
        "outputId": "9db27334-6f2c-4cc4-f4f7-9855f8ccf5cd"
      },
      "execution_count": null,
      "outputs": [
        {
          "output_type": "execute_result",
          "data": {
            "text/plain": [
              "{'model': 'arima',\n",
              " 'mae': 0.011688940726788805,\n",
              " 'mse': 0.00031410253746223885,\n",
              " 'rmse': 0.017722938172386623,\n",
              " 'r2': 0.9990793574447525,\n",
              " 'mape': 0.12904152548196593}"
            ]
          },
          "metadata": {},
          "execution_count": 80
        }
      ]
    },
    {
      "cell_type": "code",
      "source": [
        "arima_gw = pd.read_csv('arima_gw.csv')\n",
        "arima_rw = pd.read_csv('arima_rw.csv')"
      ],
      "metadata": {
        "id": "RY7Fme-fv25S"
      },
      "execution_count": null,
      "outputs": []
    },
    {
      "cell_type": "code",
      "source": [
        "fanuc_chang = pd.read_csv('fanuc_chang.csv')"
      ],
      "metadata": {
        "id": "2o3Olkvxwd3a"
      },
      "execution_count": null,
      "outputs": []
    },
    {
      "cell_type": "code",
      "source": [
        "fanuc_chang.drop(columns = 'Unnamed: 0', inplace=True)"
      ],
      "metadata": {
        "id": "npAXT5lDwrWy"
      },
      "execution_count": null,
      "outputs": []
    },
    {
      "cell_type": "code",
      "source": [
        "y_pred_rw = arima_rw['predicted_mean_rw'] # 예측을 평균으로 해줘서 예를 들어 우리는 하루를 예측했기 때문에\n",
        "y_pred_gw = arima_gw['predicted_mean_gw'] # 하루만큼 똑같은 값을 부여해서 하루기간은 다 같은 값으로 통일됨"
      ],
      "metadata": {
        "id": "JnXg-AGwwQfw"
      },
      "execution_count": null,
      "outputs": []
    },
    {
      "cell_type": "code",
      "source": [
        "y_test_rw = fanuc_chang[('2022-11-11 16:39:48' <= fanuc_chang['time']) & (fanuc_chang['time']<= '2023-01-11 22:23:47')]['RW_WHEEL_REMAIN'] # 0있는 부분은 mape를 높게 만들기 때문에\n",
        "y_test_gw = fanuc_chang[('2022-11-11 16:39:48' <= fanuc_chang['time']) & (fanuc_chang['time']<= '2023-01-11 22:23:47')]['GW_WHEEL_REMAIN'] # 0부분 최대한 빼고 예측"
      ],
      "metadata": {
        "id": "csVByv4px9IY"
      },
      "execution_count": null,
      "outputs": []
    },
    {
      "cell_type": "code",
      "source": [
        "# 개수 맞추기\n",
        "y_pred_gw = y_pred_gw[:5204640]\n",
        "y_pred_rw = y_pred_rw[:5204640]"
      ],
      "metadata": {
        "id": "T1oIalF8EmDr"
      },
      "execution_count": null,
      "outputs": []
    },
    {
      "cell_type": "code",
      "source": [
        "# 인덱스 설정 다시 하기\n",
        "y_test_gw = y_test_gw.reset_index()\n",
        "y_test_gw.drop(columns = 'index', inplace=True)\n",
        "y_test_gw = y_test_gw['GW_WHEEL_REMAIN']"
      ],
      "metadata": {
        "id": "tD1my3e07xZq"
      },
      "execution_count": null,
      "outputs": []
    },
    {
      "cell_type": "code",
      "source": [
        "# 인덱스 설정 다시 하기\n",
        "y_test_rw = y_test_rw.reset_index()\n",
        "y_test_rw.drop(columns = 'index', inplace=True)\n",
        "y_test_rw = y_test_rw['RW_WHEEL_REMAIN']"
      ],
      "metadata": {
        "id": "CUbpYaNoFUkW"
      },
      "execution_count": null,
      "outputs": []
    },
    {
      "cell_type": "code",
      "source": [
        "# rmse 구하기 - RW 휠 (위의 평가지표 만들기 전에 사용한 테스트용 검증)\n",
        "from sklearn.metrics import mean_squared_error\n",
        "RMSE = mean_squared_error(y_test_rw, y_pred_rw)**0.5\n",
        "RMSE\n",
        "# 0.017722938172386623"
      ],
      "metadata": {
        "colab": {
          "base_uri": "https://localhost:8080/"
        },
        "id": "zSCZEkOCF9FF",
        "outputId": "d28db784-80d8-4893-e8e5-0d92f6bc27a9"
      },
      "execution_count": null,
      "outputs": [
        {
          "output_type": "execute_result",
          "data": {
            "text/plain": [
              "0.017722938172386623"
            ]
          },
          "metadata": {},
          "execution_count": 12
        }
      ]
    },
    {
      "cell_type": "code",
      "source": [
        "# rmse 구하기 - GW 휠 (평가지표 만들기 전에 사용한 테스트용 검증)\n",
        "from sklearn.metrics import mean_squared_error\n",
        "RMSE = mean_squared_error(y_test_gw, y_pred_gw)**0.5\n",
        "RMSE\n",
        "# 5.351188943038773"
      ],
      "metadata": {
        "colab": {
          "base_uri": "https://localhost:8080/"
        },
        "id": "fLucs1RRGAkK",
        "outputId": "8081df66-6b41-452d-c88a-aeaf10de9dbd"
      },
      "execution_count": null,
      "outputs": [
        {
          "output_type": "execute_result",
          "data": {
            "text/plain": [
              "5.351188943038773"
            ]
          },
          "metadata": {},
          "execution_count": 13
        }
      ]
    },
    {
      "cell_type": "code",
      "source": [
        "# rmse 다시 구하기 - GW 휠\n",
        "\n",
        "arima_gw_for_rmse = arima_gw[ : '2022-12-25 15:00:00']"
      ],
      "metadata": {
        "id": "RW41nPuPHWVW"
      },
      "execution_count": null,
      "outputs": []
    },
    {
      "cell_type": "code",
      "source": [
        "arima_gw_for_rmse.reset_index(inplace=True)"
      ],
      "metadata": {
        "id": "wse4wArOJAy2"
      },
      "execution_count": null,
      "outputs": []
    },
    {
      "cell_type": "code",
      "source": [
        "arima_gw_for_rmse"
      ],
      "metadata": {
        "colab": {
          "base_uri": "https://localhost:8080/",
          "height": 423
        },
        "id": "m-o9tdPqKIbd",
        "outputId": "84c5cede-560a-4273-c129-5ba49544cca8"
      },
      "execution_count": null,
      "outputs": [
        {
          "output_type": "execute_result",
          "data": {
            "text/plain": [
              "                        time  predicted_mean_gw\n",
              "0        2022-11-11 16:39:48          34.823380\n",
              "1        2022-11-11 16:39:49          34.823380\n",
              "2        2022-11-11 16:39:50          34.823380\n",
              "3        2022-11-11 16:39:51          34.823380\n",
              "4        2022-11-11 16:39:52          34.823380\n",
              "...                      ...                ...\n",
              "3795608  2022-12-25 14:59:56           1.088128\n",
              "3795609  2022-12-25 14:59:57           1.088128\n",
              "3795610  2022-12-25 14:59:58           1.088128\n",
              "3795611  2022-12-25 14:59:59           1.088128\n",
              "3795612  2022-12-25 15:00:00           1.088128\n",
              "\n",
              "[3795613 rows x 2 columns]"
            ],
            "text/html": [
              "\n",
              "  <div id=\"df-f1145786-fbaa-4440-92be-fb998aecbe87\">\n",
              "    <div class=\"colab-df-container\">\n",
              "      <div>\n",
              "<style scoped>\n",
              "    .dataframe tbody tr th:only-of-type {\n",
              "        vertical-align: middle;\n",
              "    }\n",
              "\n",
              "    .dataframe tbody tr th {\n",
              "        vertical-align: top;\n",
              "    }\n",
              "\n",
              "    .dataframe thead th {\n",
              "        text-align: right;\n",
              "    }\n",
              "</style>\n",
              "<table border=\"1\" class=\"dataframe\">\n",
              "  <thead>\n",
              "    <tr style=\"text-align: right;\">\n",
              "      <th></th>\n",
              "      <th>time</th>\n",
              "      <th>predicted_mean_gw</th>\n",
              "    </tr>\n",
              "  </thead>\n",
              "  <tbody>\n",
              "    <tr>\n",
              "      <th>0</th>\n",
              "      <td>2022-11-11 16:39:48</td>\n",
              "      <td>34.823380</td>\n",
              "    </tr>\n",
              "    <tr>\n",
              "      <th>1</th>\n",
              "      <td>2022-11-11 16:39:49</td>\n",
              "      <td>34.823380</td>\n",
              "    </tr>\n",
              "    <tr>\n",
              "      <th>2</th>\n",
              "      <td>2022-11-11 16:39:50</td>\n",
              "      <td>34.823380</td>\n",
              "    </tr>\n",
              "    <tr>\n",
              "      <th>3</th>\n",
              "      <td>2022-11-11 16:39:51</td>\n",
              "      <td>34.823380</td>\n",
              "    </tr>\n",
              "    <tr>\n",
              "      <th>4</th>\n",
              "      <td>2022-11-11 16:39:52</td>\n",
              "      <td>34.823380</td>\n",
              "    </tr>\n",
              "    <tr>\n",
              "      <th>...</th>\n",
              "      <td>...</td>\n",
              "      <td>...</td>\n",
              "    </tr>\n",
              "    <tr>\n",
              "      <th>3795608</th>\n",
              "      <td>2022-12-25 14:59:56</td>\n",
              "      <td>1.088128</td>\n",
              "    </tr>\n",
              "    <tr>\n",
              "      <th>3795609</th>\n",
              "      <td>2022-12-25 14:59:57</td>\n",
              "      <td>1.088128</td>\n",
              "    </tr>\n",
              "    <tr>\n",
              "      <th>3795610</th>\n",
              "      <td>2022-12-25 14:59:58</td>\n",
              "      <td>1.088128</td>\n",
              "    </tr>\n",
              "    <tr>\n",
              "      <th>3795611</th>\n",
              "      <td>2022-12-25 14:59:59</td>\n",
              "      <td>1.088128</td>\n",
              "    </tr>\n",
              "    <tr>\n",
              "      <th>3795612</th>\n",
              "      <td>2022-12-25 15:00:00</td>\n",
              "      <td>1.088128</td>\n",
              "    </tr>\n",
              "  </tbody>\n",
              "</table>\n",
              "<p>3795613 rows × 2 columns</p>\n",
              "</div>\n",
              "      <button class=\"colab-df-convert\" onclick=\"convertToInteractive('df-f1145786-fbaa-4440-92be-fb998aecbe87')\"\n",
              "              title=\"Convert this dataframe to an interactive table.\"\n",
              "              style=\"display:none;\">\n",
              "        \n",
              "  <svg xmlns=\"http://www.w3.org/2000/svg\" height=\"24px\"viewBox=\"0 0 24 24\"\n",
              "       width=\"24px\">\n",
              "    <path d=\"M0 0h24v24H0V0z\" fill=\"none\"/>\n",
              "    <path d=\"M18.56 5.44l.94 2.06.94-2.06 2.06-.94-2.06-.94-.94-2.06-.94 2.06-2.06.94zm-11 1L8.5 8.5l.94-2.06 2.06-.94-2.06-.94L8.5 2.5l-.94 2.06-2.06.94zm10 10l.94 2.06.94-2.06 2.06-.94-2.06-.94-.94-2.06-.94 2.06-2.06.94z\"/><path d=\"M17.41 7.96l-1.37-1.37c-.4-.4-.92-.59-1.43-.59-.52 0-1.04.2-1.43.59L10.3 9.45l-7.72 7.72c-.78.78-.78 2.05 0 2.83L4 21.41c.39.39.9.59 1.41.59.51 0 1.02-.2 1.41-.59l7.78-7.78 2.81-2.81c.8-.78.8-2.07 0-2.86zM5.41 20L4 18.59l7.72-7.72 1.47 1.35L5.41 20z\"/>\n",
              "  </svg>\n",
              "      </button>\n",
              "      \n",
              "  <style>\n",
              "    .colab-df-container {\n",
              "      display:flex;\n",
              "      flex-wrap:wrap;\n",
              "      gap: 12px;\n",
              "    }\n",
              "\n",
              "    .colab-df-convert {\n",
              "      background-color: #E8F0FE;\n",
              "      border: none;\n",
              "      border-radius: 50%;\n",
              "      cursor: pointer;\n",
              "      display: none;\n",
              "      fill: #1967D2;\n",
              "      height: 32px;\n",
              "      padding: 0 0 0 0;\n",
              "      width: 32px;\n",
              "    }\n",
              "\n",
              "    .colab-df-convert:hover {\n",
              "      background-color: #E2EBFA;\n",
              "      box-shadow: 0px 1px 2px rgba(60, 64, 67, 0.3), 0px 1px 3px 1px rgba(60, 64, 67, 0.15);\n",
              "      fill: #174EA6;\n",
              "    }\n",
              "\n",
              "    [theme=dark] .colab-df-convert {\n",
              "      background-color: #3B4455;\n",
              "      fill: #D2E3FC;\n",
              "    }\n",
              "\n",
              "    [theme=dark] .colab-df-convert:hover {\n",
              "      background-color: #434B5C;\n",
              "      box-shadow: 0px 1px 3px 1px rgba(0, 0, 0, 0.15);\n",
              "      filter: drop-shadow(0px 1px 2px rgba(0, 0, 0, 0.3));\n",
              "      fill: #FFFFFF;\n",
              "    }\n",
              "  </style>\n",
              "\n",
              "      <script>\n",
              "        const buttonEl =\n",
              "          document.querySelector('#df-f1145786-fbaa-4440-92be-fb998aecbe87 button.colab-df-convert');\n",
              "        buttonEl.style.display =\n",
              "          google.colab.kernel.accessAllowed ? 'block' : 'none';\n",
              "\n",
              "        async function convertToInteractive(key) {\n",
              "          const element = document.querySelector('#df-f1145786-fbaa-4440-92be-fb998aecbe87');\n",
              "          const dataTable =\n",
              "            await google.colab.kernel.invokeFunction('convertToInteractive',\n",
              "                                                     [key], {});\n",
              "          if (!dataTable) return;\n",
              "\n",
              "          const docLinkHtml = 'Like what you see? Visit the ' +\n",
              "            '<a target=\"_blank\" href=https://colab.research.google.com/notebooks/data_table.ipynb>data table notebook</a>'\n",
              "            + ' to learn more about interactive tables.';\n",
              "          element.innerHTML = '';\n",
              "          dataTable['output_type'] = 'display_data';\n",
              "          await google.colab.output.renderOutput(dataTable, element);\n",
              "          const docLink = document.createElement('div');\n",
              "          docLink.innerHTML = docLinkHtml;\n",
              "          element.appendChild(docLink);\n",
              "        }\n",
              "      </script>\n",
              "    </div>\n",
              "  </div>\n",
              "  "
            ]
          },
          "metadata": {},
          "execution_count": 42
        }
      ]
    },
    {
      "cell_type": "code",
      "source": [
        "fanuc_chang_for_rmse = fanuc_chang[('2022-11-11 16:39:48' <= fanuc_chang['time']) & (fanuc_chang['time']<= '2023-01-11 22:23:47')][['time','GW_WHEEL_REMAIN']]"
      ],
      "metadata": {
        "id": "oMLqsNV7KzIn"
      },
      "execution_count": null,
      "outputs": []
    },
    {
      "cell_type": "code",
      "source": [
        "fanuc_chang_for_rmse.set_index('time', inplace=True)\n",
        "fanuc_chang_for_rmse"
      ],
      "metadata": {
        "colab": {
          "base_uri": "https://localhost:8080/",
          "height": 455
        },
        "id": "hdvaRC3ULJg9",
        "outputId": "60a3d6ce-cc79-4983-fb82-6ef02be14afa"
      },
      "execution_count": null,
      "outputs": [
        {
          "output_type": "execute_result",
          "data": {
            "text/plain": [
              "                     GW_WHEEL_REMAIN\n",
              "time                                \n",
              "2022-11-11 16:39:48        34.823378\n",
              "2022-11-11 16:39:49        34.823375\n",
              "2022-11-11 16:39:50        34.823372\n",
              "2022-11-11 16:39:51        34.823369\n",
              "2022-11-11 16:39:52        34.823366\n",
              "...                              ...\n",
              "2023-01-10 22:23:43        50.649500\n",
              "2023-01-10 22:23:44        50.649500\n",
              "2023-01-10 22:23:45        50.649500\n",
              "2023-01-10 22:23:46        50.649500\n",
              "2023-01-10 22:23:47        50.649500\n",
              "\n",
              "[5204640 rows x 1 columns]"
            ],
            "text/html": [
              "\n",
              "  <div id=\"df-fbd245f2-a873-49ef-bab2-f4a67599143c\">\n",
              "    <div class=\"colab-df-container\">\n",
              "      <div>\n",
              "<style scoped>\n",
              "    .dataframe tbody tr th:only-of-type {\n",
              "        vertical-align: middle;\n",
              "    }\n",
              "\n",
              "    .dataframe tbody tr th {\n",
              "        vertical-align: top;\n",
              "    }\n",
              "\n",
              "    .dataframe thead th {\n",
              "        text-align: right;\n",
              "    }\n",
              "</style>\n",
              "<table border=\"1\" class=\"dataframe\">\n",
              "  <thead>\n",
              "    <tr style=\"text-align: right;\">\n",
              "      <th></th>\n",
              "      <th>GW_WHEEL_REMAIN</th>\n",
              "    </tr>\n",
              "    <tr>\n",
              "      <th>time</th>\n",
              "      <th></th>\n",
              "    </tr>\n",
              "  </thead>\n",
              "  <tbody>\n",
              "    <tr>\n",
              "      <th>2022-11-11 16:39:48</th>\n",
              "      <td>34.823378</td>\n",
              "    </tr>\n",
              "    <tr>\n",
              "      <th>2022-11-11 16:39:49</th>\n",
              "      <td>34.823375</td>\n",
              "    </tr>\n",
              "    <tr>\n",
              "      <th>2022-11-11 16:39:50</th>\n",
              "      <td>34.823372</td>\n",
              "    </tr>\n",
              "    <tr>\n",
              "      <th>2022-11-11 16:39:51</th>\n",
              "      <td>34.823369</td>\n",
              "    </tr>\n",
              "    <tr>\n",
              "      <th>2022-11-11 16:39:52</th>\n",
              "      <td>34.823366</td>\n",
              "    </tr>\n",
              "    <tr>\n",
              "      <th>...</th>\n",
              "      <td>...</td>\n",
              "    </tr>\n",
              "    <tr>\n",
              "      <th>2023-01-10 22:23:43</th>\n",
              "      <td>50.649500</td>\n",
              "    </tr>\n",
              "    <tr>\n",
              "      <th>2023-01-10 22:23:44</th>\n",
              "      <td>50.649500</td>\n",
              "    </tr>\n",
              "    <tr>\n",
              "      <th>2023-01-10 22:23:45</th>\n",
              "      <td>50.649500</td>\n",
              "    </tr>\n",
              "    <tr>\n",
              "      <th>2023-01-10 22:23:46</th>\n",
              "      <td>50.649500</td>\n",
              "    </tr>\n",
              "    <tr>\n",
              "      <th>2023-01-10 22:23:47</th>\n",
              "      <td>50.649500</td>\n",
              "    </tr>\n",
              "  </tbody>\n",
              "</table>\n",
              "<p>5204640 rows × 1 columns</p>\n",
              "</div>\n",
              "      <button class=\"colab-df-convert\" onclick=\"convertToInteractive('df-fbd245f2-a873-49ef-bab2-f4a67599143c')\"\n",
              "              title=\"Convert this dataframe to an interactive table.\"\n",
              "              style=\"display:none;\">\n",
              "        \n",
              "  <svg xmlns=\"http://www.w3.org/2000/svg\" height=\"24px\"viewBox=\"0 0 24 24\"\n",
              "       width=\"24px\">\n",
              "    <path d=\"M0 0h24v24H0V0z\" fill=\"none\"/>\n",
              "    <path d=\"M18.56 5.44l.94 2.06.94-2.06 2.06-.94-2.06-.94-.94-2.06-.94 2.06-2.06.94zm-11 1L8.5 8.5l.94-2.06 2.06-.94-2.06-.94L8.5 2.5l-.94 2.06-2.06.94zm10 10l.94 2.06.94-2.06 2.06-.94-2.06-.94-.94-2.06-.94 2.06-2.06.94z\"/><path d=\"M17.41 7.96l-1.37-1.37c-.4-.4-.92-.59-1.43-.59-.52 0-1.04.2-1.43.59L10.3 9.45l-7.72 7.72c-.78.78-.78 2.05 0 2.83L4 21.41c.39.39.9.59 1.41.59.51 0 1.02-.2 1.41-.59l7.78-7.78 2.81-2.81c.8-.78.8-2.07 0-2.86zM5.41 20L4 18.59l7.72-7.72 1.47 1.35L5.41 20z\"/>\n",
              "  </svg>\n",
              "      </button>\n",
              "      \n",
              "  <style>\n",
              "    .colab-df-container {\n",
              "      display:flex;\n",
              "      flex-wrap:wrap;\n",
              "      gap: 12px;\n",
              "    }\n",
              "\n",
              "    .colab-df-convert {\n",
              "      background-color: #E8F0FE;\n",
              "      border: none;\n",
              "      border-radius: 50%;\n",
              "      cursor: pointer;\n",
              "      display: none;\n",
              "      fill: #1967D2;\n",
              "      height: 32px;\n",
              "      padding: 0 0 0 0;\n",
              "      width: 32px;\n",
              "    }\n",
              "\n",
              "    .colab-df-convert:hover {\n",
              "      background-color: #E2EBFA;\n",
              "      box-shadow: 0px 1px 2px rgba(60, 64, 67, 0.3), 0px 1px 3px 1px rgba(60, 64, 67, 0.15);\n",
              "      fill: #174EA6;\n",
              "    }\n",
              "\n",
              "    [theme=dark] .colab-df-convert {\n",
              "      background-color: #3B4455;\n",
              "      fill: #D2E3FC;\n",
              "    }\n",
              "\n",
              "    [theme=dark] .colab-df-convert:hover {\n",
              "      background-color: #434B5C;\n",
              "      box-shadow: 0px 1px 3px 1px rgba(0, 0, 0, 0.15);\n",
              "      filter: drop-shadow(0px 1px 2px rgba(0, 0, 0, 0.3));\n",
              "      fill: #FFFFFF;\n",
              "    }\n",
              "  </style>\n",
              "\n",
              "      <script>\n",
              "        const buttonEl =\n",
              "          document.querySelector('#df-fbd245f2-a873-49ef-bab2-f4a67599143c button.colab-df-convert');\n",
              "        buttonEl.style.display =\n",
              "          google.colab.kernel.accessAllowed ? 'block' : 'none';\n",
              "\n",
              "        async function convertToInteractive(key) {\n",
              "          const element = document.querySelector('#df-fbd245f2-a873-49ef-bab2-f4a67599143c');\n",
              "          const dataTable =\n",
              "            await google.colab.kernel.invokeFunction('convertToInteractive',\n",
              "                                                     [key], {});\n",
              "          if (!dataTable) return;\n",
              "\n",
              "          const docLinkHtml = 'Like what you see? Visit the ' +\n",
              "            '<a target=\"_blank\" href=https://colab.research.google.com/notebooks/data_table.ipynb>data table notebook</a>'\n",
              "            + ' to learn more about interactive tables.';\n",
              "          element.innerHTML = '';\n",
              "          dataTable['output_type'] = 'display_data';\n",
              "          await google.colab.output.renderOutput(dataTable, element);\n",
              "          const docLink = document.createElement('div');\n",
              "          docLink.innerHTML = docLinkHtml;\n",
              "          element.appendChild(docLink);\n",
              "        }\n",
              "      </script>\n",
              "    </div>\n",
              "  </div>\n",
              "  "
            ]
          },
          "metadata": {},
          "execution_count": 49
        }
      ]
    },
    {
      "cell_type": "code",
      "source": [
        "fanuc_chang_for_rmse = fanuc_chang_for_rmse[ : '2022-12-25 15:00:00']"
      ],
      "metadata": {
        "id": "nGj9CGGqLU37"
      },
      "execution_count": null,
      "outputs": []
    },
    {
      "cell_type": "code",
      "source": [
        "fanuc_chang_for_rmse = fanuc_chang_for_rmse['GW_WHEEL_REMAIN']\n",
        "arima_gw_for_rmse = arima_gw_for_rmse['predicted_mean_gw']"
      ],
      "metadata": {
        "id": "lnD4rD2tLeJg"
      },
      "execution_count": null,
      "outputs": []
    },
    {
      "cell_type": "code",
      "source": [
        "fanuc_chang_for_rmse"
      ],
      "metadata": {
        "colab": {
          "base_uri": "https://localhost:8080/"
        },
        "id": "wLlWBmF6LuOX",
        "outputId": "87383750-ae66-49d6-a098-7db1e5766f7a"
      },
      "execution_count": null,
      "outputs": [
        {
          "output_type": "execute_result",
          "data": {
            "text/plain": [
              "time\n",
              "2022-11-11 16:39:48    34.823378\n",
              "2022-11-11 16:39:49    34.823375\n",
              "2022-11-11 16:39:50    34.823372\n",
              "2022-11-11 16:39:51    34.823369\n",
              "2022-11-11 16:39:52    34.823366\n",
              "                         ...    \n",
              "2022-12-25 14:59:56     0.419757\n",
              "2022-12-25 14:59:57     0.419749\n",
              "2022-12-25 14:59:58     0.419741\n",
              "2022-12-25 14:59:59     0.419732\n",
              "2022-12-25 15:00:00     0.419724\n",
              "Name: GW_WHEEL_REMAIN, Length: 3795613, dtype: float64"
            ]
          },
          "metadata": {},
          "execution_count": 57
        }
      ]
    },
    {
      "cell_type": "code",
      "source": [
        "arima_gw['predicted_mean_gw'].plot(rot=45)"
      ],
      "metadata": {
        "colab": {
          "base_uri": "https://localhost:8080/",
          "height": 369
        },
        "id": "6qFKEE2NHzi5",
        "outputId": "52259113-e309-4f4c-91ff-1e9b53ca431f"
      },
      "execution_count": null,
      "outputs": [
        {
          "output_type": "execute_result",
          "data": {
            "text/plain": [
              "<matplotlib.axes._subplots.AxesSubplot at 0x7fd5a9bc5ee0>"
            ]
          },
          "metadata": {},
          "execution_count": 24
        },
        {
          "output_type": "display_data",
          "data": {
            "text/plain": [
              "<Figure size 432x288 with 1 Axes>"
            ],
            "image/png": "[encoded data removed]"
          },
          "metadata": {
            "needs_background": "light"
          }
        }
      ]
    },
    {
      "cell_type": "markdown",
      "source": [
        "#### **gw같은 경우 교체시점이 포함되어 있어 0의 값을 갖고 있다. 이런 데이터의 경우, mape의 값이 증가하게 되는데 우리는 값을 잘 예측하였는지만 알면 되기 때문에 0값을 포함하지 않는 부분을 따로 뽑아서 mape를 돌려서 확인해보려한다.**\n",
        "\n",
        "기간을 임의로 여러번 바꿔주며 확인해보자! cross validation\n",
        "\n",
        "대원님한테 물어보기"
      ],
      "metadata": {
        "id": "yGDV0vK1ev6u"
      }
    },
    {
      "cell_type": "code",
      "source": [
        "from sklearn.metrics import mean_squared_error\n",
        "RMSE = mean_squared_error(fanuc_chang_for_rmse, arima_gw_for_rmse)**0.5\n",
        "RMSE\n",
        "# 새로한 RMSE\n",
        "## 0.406059 # PASS(대원님이 허락안해줌)"
      ],
      "metadata": {
        "colab": {
          "base_uri": "https://localhost:8080/"
        },
        "id": "UCxDrbJ-L8-5",
        "outputId": "0c0ba1df-a92f-49b5-9e10-092947024ac5"
      },
      "execution_count": null,
      "outputs": [
        {
          "output_type": "execute_result",
          "data": {
            "text/plain": [
              "0.40605980007895276"
            ]
          },
          "metadata": {},
          "execution_count": 58
        }
      ]
    },
    {
      "cell_type": "code",
      "source": [
        "def mape(y_true, y_pred):\n",
        "    return np.mean(np.abs((y_pred - y_true) / y_true)) * 100 # MAPE\n",
        "\n",
        "mape(y_test_rw, y_pred_rw)\n",
        "\n",
        "# 0.12904152548196593"
      ],
      "metadata": {
        "colab": {
          "base_uri": "https://localhost:8080/"
        },
        "id": "mq4ONt1-GIsh",
        "outputId": "b5d752ba-f200-4a2b-8f5e-0b3b2a7baa16"
      },
      "execution_count": null,
      "outputs": [
        {
          "output_type": "execute_result",
          "data": {
            "text/plain": [
              "0.12904152548196593"
            ]
          },
          "metadata": {},
          "execution_count": 76
        }
      ]
    },
    {
      "cell_type": "code",
      "source": [
        "mape(fanuc_chang_for_rmse, arima_gw_for_rmse) # 실제값이 0이면 이럴 확률이 있다고 한다.\n",
        "\n",
        "# inf\n",
        "# 수정 후 3.79177287694157"
      ],
      "metadata": {
        "colab": {
          "base_uri": "https://localhost:8080/"
        },
        "id": "Jcgtdw0eGQal",
        "outputId": "6c2c1f94-e381-42dc-c5a2-45f28d2bc41d"
      },
      "execution_count": null,
      "outputs": [
        {
          "output_type": "execute_result",
          "data": {
            "text/plain": [
              "3.791772876941578"
            ]
          },
          "metadata": {},
          "execution_count": 75
        }
      ]
    },
    {
      "cell_type": "code",
      "source": [
        "fanuc_chang_for_rmse"
      ],
      "metadata": {
        "colab": {
          "base_uri": "https://localhost:8080/"
        },
        "id": "yZpCoKrGQytj",
        "outputId": "c11e4f17-8800-461d-866b-55eff12bc7f9"
      },
      "execution_count": null,
      "outputs": [
        {
          "output_type": "execute_result",
          "data": {
            "text/plain": [
              "0          34.823378\n",
              "1          34.823375\n",
              "2          34.823372\n",
              "3          34.823369\n",
              "4          34.823366\n",
              "             ...    \n",
              "3795608     0.419757\n",
              "3795609     0.419749\n",
              "3795610     0.419741\n",
              "3795611     0.419732\n",
              "3795612     0.419724\n",
              "Name: GW_WHEEL_REMAIN, Length: 3795613, dtype: float64"
            ]
          },
          "metadata": {},
          "execution_count": 71
        }
      ]
    },
    {
      "cell_type": "code",
      "source": [
        "arima_gw_for_rmse"
      ],
      "metadata": {
        "colab": {
          "base_uri": "https://localhost:8080/"
        },
        "id": "cZBcEy80QzFu",
        "outputId": "46ca27e9-a347-4639-cbca-957f8102eb3b"
      },
      "execution_count": null,
      "outputs": [
        {
          "output_type": "execute_result",
          "data": {
            "text/plain": [
              "0          34.823380\n",
              "1          34.823380\n",
              "2          34.823380\n",
              "3          34.823380\n",
              "4          34.823380\n",
              "             ...    \n",
              "3795608     1.088128\n",
              "3795609     1.088128\n",
              "3795610     1.088128\n",
              "3795611     1.088128\n",
              "3795612     1.088128\n",
              "Name: predicted_mean_gw, Length: 3795613, dtype: float64"
            ]
          },
          "metadata": {},
          "execution_count": 72
        }
      ]
    },
    {
      "cell_type": "code",
      "source": [
        "#fanuc_chang_for_rmse = fanuc_chang_for_rmse.reset_index()\n",
        "fanuc_chang_for_rmse = fanuc_chang_for_rmse['GW_WHEEL_REMAIN']"
      ],
      "metadata": {
        "id": "25g2w5PVPoBJ"
      },
      "execution_count": null,
      "outputs": []
    },
    {
      "cell_type": "code",
      "source": [
        "fanuc_chang_for_rmse"
      ],
      "metadata": {
        "colab": {
          "base_uri": "https://localhost:8080/"
        },
        "id": "Wfi-w2HuQBP0",
        "outputId": "c48b3318-1386-4187-c1cf-d86b65772622"
      },
      "execution_count": null,
      "outputs": [
        {
          "output_type": "execute_result",
          "data": {
            "text/plain": [
              "0          34.823378\n",
              "1          34.823375\n",
              "2          34.823372\n",
              "3          34.823369\n",
              "4          34.823366\n",
              "             ...    \n",
              "3795608     0.419757\n",
              "3795609     0.419749\n",
              "3795610     0.419741\n",
              "3795611     0.419732\n",
              "3795612     0.419724\n",
              "Name: GW_WHEEL_REMAIN, Length: 3795613, dtype: float64"
            ]
          },
          "metadata": {},
          "execution_count": 69
        }
      ]
    },
    {
      "cell_type": "code",
      "source": [
        "arima_gw_for_rmse"
      ],
      "metadata": {
        "colab": {
          "base_uri": "https://localhost:8080/"
        },
        "id": "_cCoDn2OPpKO",
        "outputId": "5d8ac636-0474-434b-eacd-bcdce7105a53"
      },
      "execution_count": null,
      "outputs": [
        {
          "output_type": "execute_result",
          "data": {
            "text/plain": [
              "0          34.823380\n",
              "1          34.823380\n",
              "2          34.823380\n",
              "3          34.823380\n",
              "4          34.823380\n",
              "             ...    \n",
              "3795608     1.088128\n",
              "3795609     1.088128\n",
              "3795610     1.088128\n",
              "3795611     1.088128\n",
              "3795612     1.088128\n",
              "Name: predicted_mean_gw, Length: 3795613, dtype: float64"
            ]
          },
          "metadata": {},
          "execution_count": 63
        }
      ]
    },
    {
      "cell_type": "markdown",
      "source": [
        "# 참고용"
      ],
      "metadata": {
        "id": "pizNbYoR9whc"
      }
    },
    {
      "cell_type": "code",
      "source": [
        "# 선형보간법\n",
        "castdf = castdf.interpolate(method='linear')\n",
        "\n",
        "#influxdb에 올릴 때 time set_index해서 올리기\n",
        "\n",
        "castdf = pd.read_csv('cast_df.csv')"
      ],
      "metadata": {
        "id": "LoXymktdCyeS"
      },
      "execution_count": null,
      "outputs": []
    }
  ]
}